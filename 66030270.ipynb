{
 "cells": [
  {
   "cell_type": "markdown",
   "metadata": {
    "dotnet_interactive": {
     "language": "csharp"
    },
    "polyglot_notebook": {
     "kernelName": "csharp"
    }
   },
   "source": [
    "## ข้อการทดลองที่1"
   ]
  },
  {
   "cell_type": "code",
   "execution_count": 4,
   "metadata": {},
   "outputs": [],
   "source": [
    "class BTreeNode:\n",
    "    def __init__(self, leaf=True):\n",
    "        # leaf: บอกว่าโหนดนี้เป็นใบหรือไม่\n",
    "        self.leaf = leaf\n",
    "        # keys: เก็บค่า key ในโหนด เรียงจากน้อยไปมาก\n",
    "        self.keys = []\n",
    "        # data: เก็บข้อมูลที่สัมพันธ์กับแต่ละ key\n",
    "        self.data = []\n",
    "        # children: เก็บ pointer ไปยังลูกของโหนด\n",
    "        self.children = []\n",
    "\n",
    "class BTree:\n",
    "    def __init__(self, order):\n",
    "        # root: pointer ไปยังโหนด root\n",
    "        self.root = None\n",
    "        # order: กำหนดจำนวน key สูงสุดในแต่ละโหนด\n",
    "        self.order = order\n",
    "        \n",
    "    def get_min_keys(self):\n",
    "        # คำนวณจำนวน key ขั้นต่ำที่แต่ละโหนดต้องมี\n",
    "        return (self.order // 2) - 1 if self.order % 2 == 0 else self.order // 2\n",
    "        \n",
    "    def get_max_keys(self):\n",
    "        # คำนวณจำนวน key สูงสุดที่แต่ละโหนดสามารถมีได้\n",
    "        return self.order - 1"
   ]
  },
  {
   "cell_type": "markdown",
   "metadata": {},
   "source": [
    "## ข้อการทดลองที่2\n"
   ]
  },
  {
   "cell_type": "code",
   "execution_count": 15,
   "metadata": {},
   "outputs": [
    {
     "name": "stdout",
     "output_type": "stream",
     "text": [
      "Level 0 : [153]\n",
      "Level 1 : [105, 115]\n",
      "Level 1 : [181, 185]\n"
     ]
    }
   ],
   "source": [
    "import random\n",
    "\n",
    "class BTreeNode:\n",
    "    def __init__(self, leaf=True):\n",
    "        self.leaf = leaf\n",
    "        self.keys = []\n",
    "        self.data = []\n",
    "        self.children = []\n",
    "\n",
    "class BTree:\n",
    "    def __init__(self, order):\n",
    "        self.root = BTreeNode()\n",
    "        self.order = order\n",
    "        self.max_keys = order - 1\n",
    "        self.min_keys = (order // 2) - 1 if order % 2 == 0 else order // 2\n",
    "    \n",
    "    def insert(self, key, data):\n",
    "        root = self.root\n",
    "        if len(root.keys) == self.max_keys:\n",
    "            new_root = BTreeNode(leaf=False)\n",
    "            new_root.children.append(root)\n",
    "            self._split_child(new_root, 0)\n",
    "            self.root = new_root\n",
    "        \n",
    "        self._insert_non_full(self.root, key, data)\n",
    "    \n",
    "    def _insert_non_full(self, node, key, data):\n",
    "        i = len(node.keys) - 1\n",
    "        \n",
    "        if node.leaf:\n",
    "            while i >= 0 and key < node.keys[i]:\n",
    "                i -= 1\n",
    "            i += 1\n",
    "            node.keys.insert(i, key)\n",
    "            node.data.insert(i, data)\n",
    "        else:\n",
    "            while i >= 0 and key < node.keys[i]:\n",
    "                i -= 1\n",
    "            i += 1\n",
    "            \n",
    "            if len(node.children[i].keys) == self.max_keys:\n",
    "                self._split_child(node, i)\n",
    "                if key > node.keys[i]:\n",
    "                    i += 1\n",
    "            \n",
    "            self._insert_non_full(node.children[i], key, data)\n",
    "    \n",
    "    def _split_child(self, parent, i):\n",
    "        child = parent.children[i]\n",
    "        new_node = BTreeNode(child.leaf)\n",
    "        mid = len(child.keys) // 2\n",
    "        \n",
    "        new_node.keys = child.keys[mid + 1:]\n",
    "        new_node.data = child.data[mid + 1:]\n",
    "        \n",
    "        if not child.leaf:\n",
    "            new_node.children = child.children[mid + 1:]\n",
    "            child.children = child.children[:mid + 1]\n",
    "        \n",
    "        parent.keys.insert(i, child.keys[mid])\n",
    "        parent.data.insert(i, child.data[mid])\n",
    "        parent.children.insert(i + 1, new_node)\n",
    "        \n",
    "        child.keys = child.keys[:mid]\n",
    "        child.data = child.data[:mid]\n",
    "    \n",
    "    def display(self, node=None, level=0):\n",
    "        if node is None:\n",
    "            node = self.root\n",
    "        print(\"Level\", level, \":\", node.keys)\n",
    "        for child in node.children:\n",
    "            self.display(child, level + 1)\n",
    "\n",
    "# สร้าง B-Tree ที่มี order = 4\n",
    "b_tree = BTree(order=4)\n",
    "\n",
    "# เพิ่มข้อมูลนักศึกษา 5 คนด้วย ID แบบสุ่ม\n",
    "random_ids = random.sample(range(100, 200), 5)\n",
    "students = [(random_ids[i], name) for i, name in enumerate([\"Ohem\", \"Mam\", \"Mew\", \"Phum\", \"Thun\"])]\n",
    "for id, name in students:\n",
    "    b_tree.insert(id, name)\n",
    "\n",
    "# แสดงโครงสร้างของ B-Tree\n",
    "b_tree.display()\n",
    "\n",
    "    \n",
    "\n"
   ]
  },
  {
   "cell_type": "code",
   "execution_count": 18,
   "metadata": {},
   "outputs": [
    {
     "name": "stdout",
     "output_type": "stream",
     "text": [
      "Level 0 : [111, 171]\n",
      "Level 1 : [107]\n",
      "Level 1 : [170]\n",
      "Level 1 : [177]\n"
     ]
    }
   ],
   "source": [
    "class BTreeNode:\n",
    "    def __init__(self, leaf=True):\n",
    "        self.leaf = leaf\n",
    "        self.keys = []\n",
    "        self.data = []\n",
    "        self.children = []\n",
    "\n",
    "class BTree:\n",
    "    def __init__(self, order=3):\n",
    "        self.root = None\n",
    "        self.order = order\n",
    "\n",
    "    def get_max_keys(self):\n",
    "        return self.order - 1\n",
    "\n",
    "    def insert(self, key, data):\n",
    "        if self.root is None:\n",
    "            self.root = BTreeNode()\n",
    "            self.root.keys.append(key)\n",
    "            self.root.data.append(data)\n",
    "            return\n",
    "\n",
    "        if len(self.root.keys) == self.get_max_keys():\n",
    "            new_root = BTreeNode(leaf=False)\n",
    "            new_root.children.append(self.root)\n",
    "            self._split_child(new_root, 0)\n",
    "            self.root = new_root\n",
    "\n",
    "        self._insert_non_full(self.root, key, data)\n",
    "\n",
    "    def _insert_non_full(self, node, key, data):\n",
    "        i = len(node.keys) - 1\n",
    "        if node.leaf:\n",
    "            while i >= 0 and key < node.keys[i]:\n",
    "                i -= 1\n",
    "            i += 1\n",
    "            node.keys.insert(i, key)\n",
    "            node.data.insert(i, data)\n",
    "        else:\n",
    "            while i >= 0 and key < node.keys[i]:\n",
    "                i -= 1\n",
    "            i += 1\n",
    "            if len(node.children[i].keys) == self.get_max_keys():\n",
    "                self._split_child(node, i)\n",
    "                if key > node.keys[i]:\n",
    "                    i += 1\n",
    "            self._insert_non_full(node.children[i], key, data)\n",
    "\n",
    "    def _split_child(self, parent, i):\n",
    "        order = self.order\n",
    "        child = parent.children[i]\n",
    "        new_node = BTreeNode(child.leaf)\n",
    "        mid = len(child.keys) // 2  # Adjusted to avoid IndexError\n",
    "\n",
    "        parent.keys.insert(i, child.keys[mid])\n",
    "        parent.data.insert(i, child.data[mid])\n",
    "        parent.children.insert(i + 1, new_node)\n",
    "\n",
    "        new_node.keys = child.keys[mid + 1:]\n",
    "        new_node.data = child.data[mid + 1:]\n",
    "        child.keys = child.keys[:mid]\n",
    "        child.data = child.data[:mid]\n",
    "\n",
    "        if not child.leaf:\n",
    "            new_node.children = child.children[mid + 1:]\n",
    "            child.children = child.children[:mid + 1]\n",
    "\n",
    "    def print_tree(self, node=None, level=0):\n",
    "        if node is None:\n",
    "            node = self.root\n",
    "        print(\"Level\", level, \":\", node.keys)\n",
    "        for child in node.children:\n",
    "            self.print_tree(child, level + 1)\n",
    "\n",
    "\n",
    "# เพิ่มข้อมูลนักศึกษา\n",
    "students = [(111, \"A\"), (171, \"B\"), (177, \"C\"), (107, \"Dd\"), (170, \"E\")]\n",
    "\n",
    "btree = BTree(order=3)\n",
    "for student in students:\n",
    "    btree.insert(student[0], student[1])\n",
    "\n",
    "# แสดงโครงสร้างของ B-Tree\n",
    "btree.print_tree()\n"
   ]
  },
  {
   "cell_type": "markdown",
   "metadata": {},
   "source": [
    "## 2.2"
   ]
  },
  {
   "cell_type": "code",
   "execution_count": null,
   "metadata": {},
   "outputs": [
    {
     "name": "stdout",
     "output_type": "stream",
     "text": [
      "Level 0 : [1002, 1004]\n",
      "Level 1 : [1001]\n",
      "Level 1 : [1003]\n",
      "Level 1 : [1005]\n"
     ]
    }
   ],
   "source": [
    "class BTreeNode:\n",
    "    def __init__(self, leaf=True):\n",
    "        self.leaf = leaf\n",
    "        self.keys = []\n",
    "        self.data = []\n",
    "        self.children = []\n",
    "\n",
    "class BTree:\n",
    "    def __init__(self, order=3):\n",
    "        self.root = None\n",
    "        self.order = order\n",
    "        self.max_keys = order - 1\n",
    "        self.min_keys = (order // 2) - 1\n",
    "\n",
    "    def insert(self, key, data):\n",
    "        if self.root is None:\n",
    "            self.root = BTreeNode()\n",
    "            self.root.keys.append(key)\n",
    "            self.root.data.append(data)\n",
    "            return\n",
    "\n",
    "        if len(self.root.keys) == self.max_keys:\n",
    "            new_root = BTreeNode(leaf=False)\n",
    "            new_root.children.append(self.root)\n",
    "            self._split_child(new_root, 0)\n",
    "            self.root = new_root\n",
    "\n",
    "        self._insert_non_full(self.root, key, data)\n",
    "\n",
    "    def _insert_non_full(self, node, key, data):\n",
    "        i = len(node.keys) - 1\n",
    "        if node.leaf:\n",
    "            while i >= 0 and key < node.keys[i]:\n",
    "                i -= 1\n",
    "            i += 1\n",
    "            node.keys.insert(i, key)\n",
    "            node.data.insert(i, data)\n",
    "        else:\n",
    "            while i >= 0 and key < node.keys[i]:\n",
    "                i -= 1\n",
    "            i += 1\n",
    "            if len(node.children[i].keys) == self.max_keys:\n",
    "                self._split_child(node, i)\n",
    "                if key > node.keys[i]:\n",
    "                    i += 1\n",
    "            self._insert_non_full(node.children[i], key, data)\n",
    "\n",
    "    def _split_child(self, parent, i):\n",
    "        child = parent.children[i]\n",
    "        new_node = BTreeNode(child.leaf)\n",
    "        mid = len(child.keys) // 2  # Adjusted to avoid IndexError\n",
    "\n",
    "        parent.keys.insert(i, child.keys[mid])\n",
    "        parent.data.insert(i, child.data[mid])\n",
    "        parent.children.insert(i + 1, new_node)\n",
    "\n",
    "        new_node.keys = child.keys[mid + 1:]\n",
    "        new_node.data = child.data[mid + 1:]\n",
    "        child.keys = child.keys[:mid]\n",
    "        child.data = child.data[:mid]\n",
    "\n",
    "        if not child.leaf:\n",
    "            new_node.children = child.children[mid + 1:]\n",
    "            child.children = child.children[:mid + 1]\n",
    "\n",
    "    def print_tree(self, node=None, level=0):\n",
    "        if node is None:\n",
    "            node = self.root\n",
    "        print(\"Level\", level, \":\", node.keys)\n",
    "        for child in node.children:\n",
    "            self.print_tree(child, level + 1)\n",
    "\n",
    "\n",
    "# เพิ่มข้อมูลนักศึกษา\n",
    "students = [(111, \"A\"), (171, \"B\"), (177, \"C\"), (107, \"Dd\"), (170, \"E\")]\n",
    "\n",
    "btree = BTree(order=3)\n",
    "for student in students:\n",
    "    btree.insert(student[0], student[1])\n",
    "\n",
    "# แสดงโครงสร้างของ B-Tree\n",
    "btree.print_tree()\n"
   ]
  },
  {
   "cell_type": "markdown",
   "metadata": {},
   "source": [
    "## ข้อการทดลองที่3"
   ]
  },
  {
   "cell_type": "code",
   "execution_count": null,
   "metadata": {},
   "outputs": [
    {
     "ename": "AttributeError",
     "evalue": "'tuple' object has no attribute 'append'",
     "output_type": "error",
     "traceback": [
      "\u001b[1;31m---------------------------------------------------------------------------\u001b[0m",
      "\u001b[1;31mAttributeError\u001b[0m                            Traceback (most recent call last)",
      "Cell \u001b[1;32mIn[9], line 76\u001b[0m\n\u001b[0;32m     74\u001b[0m students \u001b[38;5;241m=\u001b[39m [(\u001b[38;5;241m201\u001b[39m, \u001b[38;5;124m\"\u001b[39m\u001b[38;5;124mJohn\u001b[39m\u001b[38;5;124m\"\u001b[39m), (\u001b[38;5;241m202\u001b[39m, \u001b[38;5;124m\"\u001b[39m\u001b[38;5;124mMike\u001b[39m\u001b[38;5;124m\"\u001b[39m), (\u001b[38;5;241m203\u001b[39m, \u001b[38;5;124m\"\u001b[39m\u001b[38;5;124mSara\u001b[39m\u001b[38;5;124m\"\u001b[39m), (\u001b[38;5;241m204\u001b[39m, \u001b[38;5;124m\"\u001b[39m\u001b[38;5;124mLily\u001b[39m\u001b[38;5;124m\"\u001b[39m), (\u001b[38;5;241m205\u001b[39m, \u001b[38;5;124m\"\u001b[39m\u001b[38;5;124mAnna\u001b[39m\u001b[38;5;124m\"\u001b[39m)]\n\u001b[0;32m     75\u001b[0m \u001b[38;5;28;01mfor\u001b[39;00m \u001b[38;5;28mid\u001b[39m, name \u001b[38;5;129;01min\u001b[39;00m students:\n\u001b[1;32m---> 76\u001b[0m     \u001b[43mb_tree\u001b[49m\u001b[38;5;241;43m.\u001b[39;49m\u001b[43minsert\u001b[49m\u001b[43m(\u001b[49m\u001b[38;5;28;43mid\u001b[39;49m\u001b[43m,\u001b[49m\u001b[43m \u001b[49m\u001b[43mname\u001b[49m\u001b[43m)\u001b[49m\n\u001b[0;32m     78\u001b[0m \u001b[38;5;66;03m# แสดงโครงสร้างของ B-Tree\u001b[39;00m\n\u001b[0;32m     79\u001b[0m b_tree\u001b[38;5;241m.\u001b[39mdisplay()\n",
      "Cell \u001b[1;32mIn[9], line 23\u001b[0m, in \u001b[0;36mBTree.insert\u001b[1;34m(self, key, data)\u001b[0m\n\u001b[0;32m     20\u001b[0m     \u001b[38;5;28mself\u001b[39m\u001b[38;5;241m.\u001b[39m_split_child(new_root, \u001b[38;5;241m0\u001b[39m)\n\u001b[0;32m     21\u001b[0m     \u001b[38;5;28mself\u001b[39m\u001b[38;5;241m.\u001b[39mroot \u001b[38;5;241m=\u001b[39m new_root\n\u001b[1;32m---> 23\u001b[0m \u001b[38;5;28;43mself\u001b[39;49m\u001b[38;5;241;43m.\u001b[39;49m\u001b[43m_insert_non_full\u001b[49m\u001b[43m(\u001b[49m\u001b[38;5;28;43mself\u001b[39;49m\u001b[38;5;241;43m.\u001b[39;49m\u001b[43mroot\u001b[49m\u001b[43m,\u001b[49m\u001b[43m \u001b[49m\u001b[43mkey\u001b[49m\u001b[43m,\u001b[49m\u001b[43m \u001b[49m\u001b[43mdata\u001b[49m\u001b[43m)\u001b[49m\n",
      "Cell \u001b[1;32mIn[9], line 29\u001b[0m, in \u001b[0;36mBTree._insert_non_full\u001b[1;34m(self, node, key, data)\u001b[0m\n\u001b[0;32m     26\u001b[0m i \u001b[38;5;241m=\u001b[39m \u001b[38;5;28mlen\u001b[39m(node\u001b[38;5;241m.\u001b[39mkeys) \u001b[38;5;241m-\u001b[39m \u001b[38;5;241m1\u001b[39m\n\u001b[0;32m     28\u001b[0m \u001b[38;5;28;01mif\u001b[39;00m node\u001b[38;5;241m.\u001b[39mleaf:\n\u001b[1;32m---> 29\u001b[0m     \u001b[43mnode\u001b[49m\u001b[38;5;241;43m.\u001b[39;49m\u001b[43mkeys\u001b[49m\u001b[38;5;241;43m.\u001b[39;49m\u001b[43mappend\u001b[49m(key)\n\u001b[0;32m     30\u001b[0m     node\u001b[38;5;241m.\u001b[39mdata\u001b[38;5;241m.\u001b[39mappend(data)\n\u001b[0;32m     31\u001b[0m     node\u001b[38;5;241m.\u001b[39mkeys, node\u001b[38;5;241m.\u001b[39mdata \u001b[38;5;241m=\u001b[39m \u001b[38;5;28mzip\u001b[39m(\u001b[38;5;241m*\u001b[39m\u001b[38;5;28msorted\u001b[39m(\u001b[38;5;28mzip\u001b[39m(node\u001b[38;5;241m.\u001b[39mkeys, node\u001b[38;5;241m.\u001b[39mdata)))\n",
      "\u001b[1;31mAttributeError\u001b[0m: 'tuple' object has no attribute 'append'"
     ]
    }
   ],
   "source": [
    "\n"
   ]
  }
 ],
 "metadata": {
  "kernelspec": {
   "display_name": "Python 3",
   "language": "python",
   "name": "python3"
  },
  "language_info": {
   "codemirror_mode": {
    "name": "ipython",
    "version": 3
   },
   "file_extension": ".py",
   "mimetype": "text/x-python",
   "name": "python",
   "nbconvert_exporter": "python",
   "pygments_lexer": "ipython3",
   "version": "3.11.0"
  },
  "polyglot_notebook": {
   "kernelInfo": {
    "defaultKernelName": "csharp",
    "items": [
     {
      "aliases": [],
      "languageName": "csharp",
      "name": "csharp"
     }
    ]
   }
  }
 },
 "nbformat": 4,
 "nbformat_minor": 2
}
